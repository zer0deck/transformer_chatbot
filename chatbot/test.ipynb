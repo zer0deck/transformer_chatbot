{
 "cells": [
  {
   "cell_type": "code",
   "execution_count": 1,
   "metadata": {},
   "outputs": [],
   "source": [
    "from transformer import Transformer\n",
    "import pandas as pd"
   ]
  },
  {
   "cell_type": "code",
   "execution_count": 2,
   "metadata": {},
   "outputs": [],
   "source": [
    "df = pd.read_csv('../data/translation/dataset.csv', sep=';')\n",
    "tf = Transformer(lang='en-us', num_epoch=2)"
   ]
  },
  {
   "cell_type": "code",
   "execution_count": 3,
   "metadata": {},
   "outputs": [
    {
     "name": "stdout",
     "output_type": "stream",
     "text": [
      "<class 'tensorflow.python.data.ops.dataset_ops.DatasetV2'>: Dictionary generation Corpus(lang='en-us', max_length=40, batch_size=64, buffer_size=20000, _start_token=0, _end_token=0, _vocab_size=0). \n",
      "\tPlease be patient. Depending on the size of the dataset and \n",
      "\tthe number of unique words, this can take a while (up to 5 minutes).\n",
      "Data loaded with hyperparams: Corpus(lang='en-us', max_length=40, batch_size=64, buffer_size=20000, _start_token=[74785], _end_token=[74786], _vocab_size=74787).\n",
      "<keras.engine.functional.Functional object at 0x00000264B62CD5A0> compiled successfully.\n",
      "Epoch 1/2\n",
      "692/692 [==============================] - 226s 304ms/step - loss: 2.8436 - _count_accuracy: 0.0581\n",
      "Epoch 2/2\n",
      "692/692 [==============================] - 211s 305ms/step - loss: 1.9010 - _count_accuracy: 0.1108\n"
     ]
    }
   ],
   "source": [
    "tf.fit(data=df)"
   ]
  }
 ],
 "metadata": {
  "kernelspec": {
   "display_name": "Python 3.10.6 ('myenv')",
   "language": "python",
   "name": "python3"
  },
  "language_info": {
   "codemirror_mode": {
    "name": "ipython",
    "version": 3
   },
   "file_extension": ".py",
   "mimetype": "text/x-python",
   "name": "python",
   "nbconvert_exporter": "python",
   "pygments_lexer": "ipython3",
   "version": "3.10.8"
  },
  "orig_nbformat": 4,
  "vscode": {
   "interpreter": {
    "hash": "a48c1c1e8658373fcc539852917cc22c6ad5be79fdb42c1f6d2f958531f72923"
   }
  }
 },
 "nbformat": 4,
 "nbformat_minor": 2
}
