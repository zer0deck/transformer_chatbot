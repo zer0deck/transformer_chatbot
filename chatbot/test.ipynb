{
 "cells": [
  {
   "cell_type": "code",
   "execution_count": 1,
   "metadata": {},
   "outputs": [],
   "source": [
    "from transformer import Transformer\n",
    "import pandas as pd\n"
   ]
  },
  {
   "cell_type": "code",
   "execution_count": 2,
   "metadata": {},
   "outputs": [],
   "source": [
    "df = pd.read_csv('ru/dataset.csv', sep=';')"
   ]
  },
  {
   "cell_type": "code",
   "execution_count": 3,
   "metadata": {},
   "outputs": [],
   "source": [
    "tf = Transformer(lang='ru')"
   ]
  },
  {
   "cell_type": "code",
   "execution_count": 4,
   "metadata": {},
   "outputs": [
    {
     "name": "stdout",
     "output_type": "stream",
     "text": [
      "Data loaded with hyperparams: Corpus(lang='ru', max_length=40, batch_size=64, buffer_size=20000, _start_token=[75865], _end_token=[75866], _vocab_size=75867).\n",
      "<keras.engine.functional.Functional object at 0x0000018EF5E23040> compiled successfully.\n",
      "3825/3825 [==============================] - 606s 156ms/step - loss: 1.2500 - _count_accuracy: 0.0388\n"
     ]
    }
   ],
   "source": [
    "tf.fit(data=df)"
   ]
  }
 ],
 "metadata": {
  "kernelspec": {
   "display_name": "Python 3.10.6 ('myenv')",
   "language": "python",
   "name": "python3"
  },
  "language_info": {
   "codemirror_mode": {
    "name": "ipython",
    "version": 3
   },
   "file_extension": ".py",
   "mimetype": "text/x-python",
   "name": "python",
   "nbconvert_exporter": "python",
   "pygments_lexer": "ipython3",
   "version": "3.10.6"
  },
  "orig_nbformat": 4,
  "vscode": {
   "interpreter": {
    "hash": "a48c1c1e8658373fcc539852917cc22c6ad5be79fdb42c1f6d2f958531f72923"
   }
  }
 },
 "nbformat": 4,
 "nbformat_minor": 2
}
