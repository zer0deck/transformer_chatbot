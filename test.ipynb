{
 "cells": [
  {
   "cell_type": "markdown",
   "metadata": {},
   "source": [
    "# Transformer\n",
    "*Transformer network with Multi-Head Attention*"
   ]
  },
  {
   "cell_type": "code",
   "execution_count": 1,
   "metadata": {},
   "outputs": [],
   "source": [
    "from chatbot.transformer import Transformer\n",
    "import pandas as pd"
   ]
  },
  {
   "cell_type": "code",
   "execution_count": 2,
   "metadata": {},
   "outputs": [],
   "source": [
    "df = pd.read_csv('../data/translation/dataset.csv', sep=';')\n",
    "tf = Transformer(lang='en-us', num_epoch=2)"
   ]
  },
  {
   "cell_type": "code",
   "execution_count": 3,
   "metadata": {},
   "outputs": [
    {
     "name": "stdout",
     "output_type": "stream",
     "text": [
      "<class 'tensorflow.python.data.ops.dataset_ops.DatasetV2'>: Dictionary generation Corpus(lang='en-us', max_length=40, batch_size=64, buffer_size=20000, _start_token=0, _end_token=0, _vocab_size=0). \n",
      "\tPlease be patient. Depending on the size of the dataset and \n",
      "\tthe number of unique words, this can take a while (up to 5 minutes).\n",
      "Data loaded with hyperparams: Corpus(lang='en-us', max_length=40, batch_size=64, buffer_size=20000, _start_token=[74785], _end_token=[74786], _vocab_size=74787).\n",
      "<keras.engine.functional.Functional object at 0x00000264B62CD5A0> compiled successfully.\n",
      "Epoch 1/2\n",
      "692/692 [==============================] - 226s 304ms/step - loss: 2.8436 - _count_accuracy: 0.0581\n",
      "Epoch 2/2\n",
      "692/692 [==============================] - 211s 305ms/step - loss: 1.9010 - _count_accuracy: 0.1108\n"
     ]
    }
   ],
   "source": [
    "tf.fit(data=df)"
   ]
  },
  {
   "cell_type": "markdown",
   "metadata": {},
   "source": [
    "# DNN\n",
    "\n",
    "*Bag-Of-Words based DNN network*"
   ]
  },
  {
   "cell_type": "code",
   "execution_count": null,
   "metadata": {},
   "outputs": [],
   "source": [
    "import nltk\n",
    "from nltk.stem.lancaster import LancasterStemmer\n",
    "import numpy as np\n",
    "import tflearn\n",
    "import tensorflow as tf\n",
    "import json\n",
    "import pickle\n",
    "import random\n",
    "\n",
    "nltk.download(\"punkt\")\n",
    "\n",
    "#Loading intents.json\n",
    "with open('intents.json') as intents:\n",
    "  data = json.load(intents)\n",
    "\n",
    "stemmer = LancasterStemmer()\n",
    "\n",
    "try:\n",
    "    with open('data.pickle','rb') as f:\n",
    "        words, labels, training, output = pickle.load(f)\n",
    "except:\n",
    "# Fetching and Feeding information--\n",
    "    words = []\n",
    "    labels = []\n",
    "    x_docs = []\n",
    "    y_docs = []\n",
    "\n",
    "    for intent in data['intents']:\n",
    "        for pattern in intent['patterns']:\n",
    "            wrds = nltk.word_tokenize(pattern)\n",
    "            words.extend(wrds)\n",
    "            x_docs.append(wrds)\n",
    "            y_docs.append(intent['tag'])\n",
    "\n",
    "            if intent['tag'] not in labels:\n",
    "                labels.append(intent['tag'])\n",
    "\n",
    "    words = [stemmer.stem(w.lower()) for w in words if w not in \"?\"]\n",
    "    words = sorted(list(set(words)))\n",
    "    labels = sorted(labels)\n",
    "\n",
    "    training = []\n",
    "    output = []\n",
    "\n",
    "    out_empty = [0 for _ in range(len(labels))]\n",
    "\n",
    "    # One hot encoding, Converting the words to numerals\n",
    "    for x, doc in enumerate(x_docs):\n",
    "        bag = []\n",
    "        wrds = [stemmer.stem(w) for w in doc]\n",
    "        for w in words:\n",
    "            if w in wrds:\n",
    "                bag.append(1)\n",
    "            else:\n",
    "                bag.append(0)\n",
    "\n",
    "\n",
    "        output_row = out_empty[:]\n",
    "        output_row[labels.index(y_docs[x])] = 1\n",
    "\n",
    "        training.append(bag)\n",
    "        output.append(output_row)\n",
    "\n",
    "\n",
    "    training = np.array(training)\n",
    "    output = np.array(output)\n",
    "\n",
    "    with open('data.pickle','wb') as f:\n",
    "        pickle.dump((words, labels, training, output), f)\n",
    "\n",
    "\n",
    "net = tflearn.input_data(shape=[None, len(training[0])])\n",
    "net = tflearn.fully_connected(net, 8)\n",
    "net = tflearn.fully_connected(net, 8)\n",
    "net = tflearn.fully_connected(net, len(output[0]), activation='softmax')\n",
    "net = tflearn.regression(net)\n",
    "\n",
    "model = tflearn.DNN(net)\n",
    "\n",
    "try:\n",
    "    model.load(\"model.tflearn\")\n",
    "except:\n",
    "\n",
    "    model.fit(training, output, n_epoch=100, batch_size=8, show_metric=True)\n",
    "    model.save('model.tflearn')\n",
    "\n",
    "\n",
    "def bag_of_words(s, words):\n",
    "    bag = [0 for _ in range(len(words))]\n",
    "    s_words = nltk.word_tokenize(s)\n",
    "    s_words = [stemmer.stem(word.lower()) for word in s_words]\n",
    "\n",
    "    for se in s_words:\n",
    "        for i, w in enumerate(words):\n",
    "            if w == se:\n",
    "                bag[i] = 1\n",
    "\n",
    "    return np.array(bag)\n",
    "\n",
    "\n",
    "def chat():\n",
    "    print(\"The bot is ready to talk!!(Type 'quit' to exit)\")\n",
    "    while True:\n",
    "        inp = input(\"\\nYou: \")\n",
    "        if inp.lower() == 'quit':\n",
    "            break\n",
    "\n",
    "    #Porbability of correct response \n",
    "        results = model.predict([bag_of_words(inp, words)])\n",
    "\n",
    "    # Picking the greatest number from probability\n",
    "        results_index = np.argmax(results)\n",
    "\n",
    "        tag = labels[results_index]\n",
    "\n",
    "\n",
    "        for tg in data['intents']:\n",
    "\n",
    "            if tg['tag'] == tag:\n",
    "                responses = tg['responses']\n",
    "            print(\"Bot:\" + random.choice(responses))\n",
    "\n",
    "\n",
    "chat()"
   ]
  },
  {
   "cell_type": "markdown",
   "metadata": {},
   "source": [
    "# Default Sequential model"
   ]
  },
  {
   "cell_type": "code",
   "execution_count": null,
   "metadata": {},
   "outputs": [],
   "source": []
  }
 ],
 "metadata": {
  "kernelspec": {
   "display_name": "Python 3.10.8 ('tfenv')",
   "language": "python",
   "name": "python3"
  },
  "language_info": {
   "codemirror_mode": {
    "name": "ipython",
    "version": 3
   },
   "file_extension": ".py",
   "mimetype": "text/x-python",
   "name": "python",
   "nbconvert_exporter": "python",
   "pygments_lexer": "ipython3",
   "version": "3.10.8"
  },
  "orig_nbformat": 4,
  "vscode": {
   "interpreter": {
    "hash": "891e4fc61ac792e208938f292df2fbd7ee5dda42dce8831cfe4bd29bcfe9707e"
   }
  }
 },
 "nbformat": 4,
 "nbformat_minor": 2
}
